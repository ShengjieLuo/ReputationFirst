{
 "cells": [
  {
   "cell_type": "code",
   "execution_count": 9,
   "metadata": {},
   "outputs": [],
   "source": [
    "import time\n",
    "import json\n",
    "from summa import summarizer\n",
    "from summa import keywords\n",
    "import nltk\n",
    "import datetime"
   ]
  },
  {
   "cell_type": "code",
   "execution_count": 2,
   "metadata": {},
   "outputs": [],
   "source": [
    "def get_abstract_keywords(text):\n",
    "    return summarizer.summarize(text), keywords.keywords(text, split=True)"
   ]
  },
  {
   "cell_type": "code",
   "execution_count": 14,
   "metadata": {},
   "outputs": [
    {
     "name": "stdout",
     "output_type": "stream",
     "text": [
      "0 2018-05-08 18:01:50.175473\n",
      "BRIEF-Adobe Systems Reports Qtrly Earnings Per Share of $1.55 On A Non-GAAP Basis\n",
      "1\n",
      "Wall Street advances on strong industrial data but posts weekly losses\n",
      "2\n",
      "Wall Street advances on strong industrial data but posts weekly losses\n",
      "3\n",
      "BUZZ-U.S. stocks weekly: Political pounding\n",
      "4\n",
      "US STOCKS-S&P advances on strong industrial output data\n",
      "5\n",
      "US STOCKS-Wall Street advances as financial, energy stocks gain\n",
      "6\n",
      "US STOCKS-Wall St higher as financial stocks gain on strong data\n",
      "7\n",
      "GLOBAL MARKETS-Stocks edge up, investors watchful as U.S. govt turmoil tests nerves\n",
      "8\n"
     ]
    }
   ],
   "source": [
    "def get_result_list(file, num):\n",
    "    line_count = 0\n",
    "    abandon_count = 0\n",
    "    result_list = []\n",
    "    with open(file, 'r') as raw_data:\n",
    "        while line_count != num:\n",
    "            if line_count % 100 == 0:\n",
    "                print(line_count, datetime.datetime.now())\n",
    "            line_count += 1\n",
    "            json_data = json.loads(raw_data.readline())\n",
    "            abstract, keyword = get_abstract_keywords(json_data['text'])\n",
    "            name = json_data['company']\n",
    "            tags_words = list(map(lambda x: x[1:], json_data['tags']))\n",
    "            abstract_words = list(map(lambda x: x.lower(), nltk.tokenize.word_tokenize(abstract)))\n",
    "            title_words = list(map(lambda x: x.lower(), nltk.tokenize.word_tokenize(json_data['title'])))\n",
    "            if abstract != ''\\\n",
    "            and name not in abstract_words\\\n",
    "            and name not in title_words\\\n",
    "            and name not in tags_words:\n",
    "                abandon_count += 1\n",
    "                print(json_data['title'])\n",
    "                print(abandon_count)\n",
    "                continue\n",
    "            json_data['abstract'] = abstract\n",
    "            json_data['keywords'] = keyword\n",
    "            result_list.append(json.dumps(json_data))\n",
    "    return result_list"
   ]
  },
  {
   "cell_type": "code",
   "execution_count": 15,
   "metadata": {
    "scrolled": true
   },
   "outputs": [],
   "source": [
    "def get_demo(file, number_of_demo):\n",
    "    data = get_result_list(file, number_of_demo)\n",
    "    with open('data_output_sample.dat', 'w') as d:\n",
    "        for j in data:\n",
    "            d.write(j + '\\n')"
   ]
  },
  {
   "cell_type": "code",
   "execution_count": null,
   "metadata": {},
   "outputs": [],
   "source": []
  }
 ],
 "metadata": {
  "kernelspec": {
   "display_name": "Python 3",
   "language": "python",
   "name": "python3"
  },
  "language_info": {
   "codemirror_mode": {
    "name": "ipython",
    "version": 3
   },
   "file_extension": ".py",
   "mimetype": "text/x-python",
   "name": "python",
   "nbconvert_exporter": "python",
   "pygments_lexer": "ipython3",
   "version": "3.5.4"
  },
  "varInspector": {
   "cols": {
    "lenName": 16,
    "lenType": 16,
    "lenVar": 40
   },
   "kernels_config": {
    "python": {
     "delete_cmd_postfix": "",
     "delete_cmd_prefix": "del ",
     "library": "var_list.py",
     "varRefreshCmd": "print(var_dic_list())"
    },
    "r": {
     "delete_cmd_postfix": ") ",
     "delete_cmd_prefix": "rm(",
     "library": "var_list.r",
     "varRefreshCmd": "cat(var_dic_list()) "
    }
   },
   "types_to_exclude": [
    "module",
    "function",
    "builtin_function_or_method",
    "instance",
    "_Feature"
   ],
   "window_display": false
  }
 },
 "nbformat": 4,
 "nbformat_minor": 2
}
