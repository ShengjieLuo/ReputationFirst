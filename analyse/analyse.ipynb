{
 "cells": [
  {
   "cell_type": "code",
   "execution_count": 66,
   "metadata": {},
   "outputs": [],
   "source": [
    "import time\n",
    "import json\n",
    "import datetime\n",
    "import pandas as pd\n",
    "import matplotlib.pyplot as plt"
   ]
  },
  {
   "cell_type": "code",
   "execution_count": 67,
   "metadata": {},
   "outputs": [],
   "source": [
    "company_dict = {}\n",
    "def get_company_dataframes(file):\n",
    "    line_count = 0\n",
    "    abandon_count = 0\n",
    "    result_list = []\n",
    "    with open(file, 'r') as raw_data:\n",
    "        while True:\n",
    "            line = raw_data.readline()\n",
    "            if not line:\n",
    "                break\n",
    "            if line_count % 1000 == 0:\n",
    "                print(line_count, datetime.datetime.now())\n",
    "            line_count += 1\n",
    "            json_data = json.loads(line)\n",
    "            name = json_data['company']\n",
    "            d = {'neg_abstract': json_data['score_abstract']['neg'],\\\n",
    "                 'pos_abstract': json_data['score_abstract']['pos'],\\\n",
    "                 'neu_abstract': json_data['score_abstract']['neu'],\\\n",
    "                 'neg_text': json_data['score_text']['neg'],\\\n",
    "                 'pos_text': json_data['score_text']['pos'],\\\n",
    "                 'neu_text': json_data['score_text']['neu'],\\\n",
    "                 'neg_sentence': json_data['score_sentence']['neg'],\\\n",
    "                 'pos_sentence': json_data['score_sentence']['pos'],\\\n",
    "                 'neu_sentence': json_data['score_sentence']['neu'],\\\n",
    "                 'date': json_data['date'],\\\n",
    "                 'week': json_data['week']}\n",
    "            if name not in company_dict:\n",
    "                company_dict[name] = pd.DataFrame([d])\n",
    "            else:\n",
    "                df = pd.DataFrame([d])\n",
    "                company_dict[name] = company_dict[name].append(df, ignore_index=True)"
   ]
  },
  {
   "cell_type": "code",
   "execution_count": null,
   "metadata": {},
   "outputs": [
    {
     "name": "stdout",
     "output_type": "stream",
     "text": [
      "0 2018-05-08 23:11:38.375655\n",
      "1000 2018-05-08 23:11:41.527542\n",
      "2000 2018-05-08 23:11:44.186069\n"
     ]
    }
   ],
   "source": [
    "get_company_dataframes('688v43.dat')"
   ]
  },
  {
   "cell_type": "code",
   "execution_count": 62,
   "metadata": {},
   "outputs": [
    {
     "name": "stdout",
     "output_type": "stream",
     "text": [
      "2080\n"
     ]
    }
   ],
   "source": [
    "pd_fb = company_dict['facebook']\n",
    "print(len(pd_fb))"
   ]
  },
  {
   "cell_type": "code",
   "execution_count": null,
   "metadata": {},
   "outputs": [],
   "source": []
  }
 ],
 "metadata": {
  "kernelspec": {
   "display_name": "Python 3",
   "language": "python",
   "name": "python3"
  },
  "language_info": {
   "codemirror_mode": {
    "name": "ipython",
    "version": 3
   },
   "file_extension": ".py",
   "mimetype": "text/x-python",
   "name": "python",
   "nbconvert_exporter": "python",
   "pygments_lexer": "ipython3",
   "version": "3.5.4"
  },
  "varInspector": {
   "cols": {
    "lenName": 16,
    "lenType": 16,
    "lenVar": 40
   },
   "kernels_config": {
    "python": {
     "delete_cmd_postfix": "",
     "delete_cmd_prefix": "del ",
     "library": "var_list.py",
     "varRefreshCmd": "print(var_dic_list())"
    },
    "r": {
     "delete_cmd_postfix": ") ",
     "delete_cmd_prefix": "rm(",
     "library": "var_list.r",
     "varRefreshCmd": "cat(var_dic_list()) "
    }
   },
   "types_to_exclude": [
    "module",
    "function",
    "builtin_function_or_method",
    "instance",
    "_Feature"
   ],
   "window_display": false
  }
 },
 "nbformat": 4,
 "nbformat_minor": 2
}
