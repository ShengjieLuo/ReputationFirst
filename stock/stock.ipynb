{
 "cells": [
  {
   "cell_type": "code",
   "execution_count": 57,
   "metadata": {},
   "outputs": [],
   "source": [
    "import pandas as pd\n",
    "from pandas_datareader import data, wb\n",
    "import datetime\n",
    "import time"
   ]
  },
  {
   "cell_type": "code",
   "execution_count": 66,
   "metadata": {},
   "outputs": [],
   "source": [
    "def get_stock_pdf(ticker):\n",
    "    start = datetime.datetime(2018, 1, 1)\n",
    "    end = datetime.date.today()\n",
    "    print(ticker)\n",
    "    time.sleep(1)\n",
    "    return ticker, data.DataReader(ticker, \"iex\", start, end)"
   ]
  },
  {
   "cell_type": "code",
   "execution_count": 49,
   "metadata": {},
   "outputs": [],
   "source": [
    "def read_stock_data(file):\n",
    "    with open(file, 'r') as f:\n",
    "        fl = f.readlines()\n",
    "        tickers = list(filter(lambda x: x, map(lambda x: x.split(',')[1].strip(), fl)))\n",
    "        tickers_map = {i.split(',')[1].strip(): i.split(',')[0].split(' ') for i in fl}\n",
    "        return tickers, tickers_map"
   ]
  },
  {
   "cell_type": "code",
   "execution_count": 50,
   "metadata": {},
   "outputs": [],
   "source": [
    "def output_csv(pdfs):\n",
    "    for pdf in pdfs:\n",
    "        pdf[1].to_csv('data/'+pdf[0]+'.csv', sep=',', encoding='utf-8')\n",
    "        "
   ]
  },
  {
   "cell_type": "code",
   "execution_count": 54,
   "metadata": {},
   "outputs": [
    {
     "name": "stdout",
     "output_type": "stream",
     "text": [
      "['AAPL', 'GOOG', 'MSFT', 'AMZN', 'T', 'VZ', 'INTC', 'HP', 'ORCL', 'FB', 'V', 'CSCO', 'IBM', 'NVDA', 'PYPL', 'ADBE', 'DVMT', 'QCOM', 'EBAY', 'BKNG', 'EXPE', 'CRM', 'TWTR', 'TRIP', 'NFLX', 'W', 'VMW', 'DBX']\n"
     ]
    }
   ],
   "source": [
    "tickers, tickers_map = read_stock_data('ticker_list')\n",
    "print(tickers)"
   ]
  },
  {
   "cell_type": "code",
   "execution_count": 69,
   "metadata": {},
   "outputs": [
    {
     "name": "stdout",
     "output_type": "stream",
     "text": [
      "AAPL\n",
      "1y\n",
      "GOOG\n",
      "1y\n",
      "MSFT\n",
      "1y\n",
      "AMZN\n",
      "1y\n",
      "T\n",
      "1y\n",
      "VZ\n",
      "1y\n",
      "INTC\n",
      "1y\n",
      "HP\n",
      "1y\n",
      "ORCL\n",
      "1y\n",
      "FB\n",
      "1y\n",
      "V\n",
      "1y\n",
      "CSCO\n",
      "1y\n",
      "IBM\n",
      "1y\n",
      "NVDA\n",
      "1y\n",
      "PYPL\n",
      "1y\n",
      "ADBE\n",
      "1y\n",
      "DVMT\n",
      "1y\n",
      "QCOM\n",
      "1y\n",
      "EBAY\n",
      "1y\n",
      "BKNG\n",
      "1y\n",
      "EXPE\n",
      "1y\n",
      "CRM\n",
      "1y\n",
      "TWTR\n",
      "1y\n",
      "TRIP\n",
      "1y\n",
      "NFLX\n",
      "1y\n",
      "W\n",
      "1y\n",
      "VMW\n",
      "1y\n",
      "DBX\n",
      "1y\n"
     ]
    }
   ],
   "source": [
    "pdfs = [get_stock_pdf(t) for t in tickers]"
   ]
  },
  {
   "cell_type": "code",
   "execution_count": 70,
   "metadata": {},
   "outputs": [],
   "source": [
    "output_csv(pdfs)"
   ]
  },
  {
   "cell_type": "code",
   "execution_count": null,
   "metadata": {},
   "outputs": [],
   "source": []
  }
 ],
 "metadata": {
  "kernelspec": {
   "display_name": "Python 3",
   "language": "python",
   "name": "python3"
  },
  "language_info": {
   "codemirror_mode": {
    "name": "ipython",
    "version": 3
   },
   "file_extension": ".py",
   "mimetype": "text/x-python",
   "name": "python",
   "nbconvert_exporter": "python",
   "pygments_lexer": "ipython3",
   "version": "3.5.4"
  },
  "varInspector": {
   "cols": {
    "lenName": 16,
    "lenType": 16,
    "lenVar": 40
   },
   "kernels_config": {
    "python": {
     "delete_cmd_postfix": "",
     "delete_cmd_prefix": "del ",
     "library": "var_list.py",
     "varRefreshCmd": "print(var_dic_list())"
    },
    "r": {
     "delete_cmd_postfix": ") ",
     "delete_cmd_prefix": "rm(",
     "library": "var_list.r",
     "varRefreshCmd": "cat(var_dic_list()) "
    }
   },
   "types_to_exclude": [
    "module",
    "function",
    "builtin_function_or_method",
    "instance",
    "_Feature"
   ],
   "window_display": false
  }
 },
 "nbformat": 4,
 "nbformat_minor": 2
}
